{
 "cells": [
  {
   "cell_type": "markdown",
   "metadata": {
    "id": "OIChaN_7k9Nk"
   },
   "source": [
    "# Import"
   ]
  },
  {
   "cell_type": "code",
   "execution_count": 1,
   "metadata": {
    "id": "qSlZHf8wh4T4"
   },
   "outputs": [],
   "source": [
    "# import library\n",
    "import pandas as pd\n",
    "import numpy as np\n",
    "import matplotlib.pyplot as plt\n",
    "import seaborn as sns"
   ]
  },
  {
   "cell_type": "code",
   "execution_count": 2,
   "metadata": {
    "id": "xZG4Mlu1l1__"
   },
   "outputs": [],
   "source": [
    "# import data\n",
    "df = pd.read_csv('adidas.csv')"
   ]
  },
  {
   "cell_type": "markdown",
   "metadata": {
    "id": "yO0KOKA2mEj8"
   },
   "source": [
    "# Data Profiling and Preprocesing"
   ]
  },
  {
   "cell_type": "markdown",
   "metadata": {
    "id": "FRTRYbBbuLUl"
   },
   "source": [
    "## Data Profiling"
   ]
  },
  {
   "cell_type": "code",
   "execution_count": 3,
   "metadata": {
    "colab": {
     "base_uri": "https://localhost:8080/",
     "height": 433
    },
    "id": "7t-mb-Xvms5l",
    "outputId": "d751aefc-57e7-437a-8971-e875f2eb52e9"
   },
   "outputs": [
    {
     "data": {
      "text/html": [
       "<div>\n",
       "<style scoped>\n",
       "    .dataframe tbody tr th:only-of-type {\n",
       "        vertical-align: middle;\n",
       "    }\n",
       "\n",
       "    .dataframe tbody tr th {\n",
       "        vertical-align: top;\n",
       "    }\n",
       "\n",
       "    .dataframe thead th {\n",
       "        text-align: right;\n",
       "    }\n",
       "</style>\n",
       "<table border=\"1\" class=\"dataframe\">\n",
       "  <thead>\n",
       "    <tr style=\"text-align: right;\">\n",
       "      <th></th>\n",
       "      <th>url</th>\n",
       "      <th>name</th>\n",
       "      <th>sku</th>\n",
       "      <th>selling_price</th>\n",
       "      <th>original_price</th>\n",
       "      <th>currency</th>\n",
       "      <th>availability</th>\n",
       "      <th>color</th>\n",
       "      <th>category</th>\n",
       "      <th>source</th>\n",
       "      <th>source_website</th>\n",
       "      <th>breadcrumbs</th>\n",
       "      <th>description</th>\n",
       "      <th>brand</th>\n",
       "      <th>images</th>\n",
       "      <th>country</th>\n",
       "      <th>language</th>\n",
       "      <th>average_rating</th>\n",
       "      <th>reviews_count</th>\n",
       "      <th>crawled_at</th>\n",
       "    </tr>\n",
       "  </thead>\n",
       "  <tbody>\n",
       "    <tr>\n",
       "      <th>0</th>\n",
       "      <td>https://www.adidas.com/us/beach-shorts/FJ5089....</td>\n",
       "      <td>Beach Shorts</td>\n",
       "      <td>FJ5089</td>\n",
       "      <td>40</td>\n",
       "      <td>NaN</td>\n",
       "      <td>USD</td>\n",
       "      <td>InStock</td>\n",
       "      <td>Black</td>\n",
       "      <td>Clothing</td>\n",
       "      <td>adidas United States</td>\n",
       "      <td>https://www.adidas.com</td>\n",
       "      <td>Women/Clothing</td>\n",
       "      <td>Splashing in the surf. Making memories with yo...</td>\n",
       "      <td>adidas</td>\n",
       "      <td>https://assets.adidas.com/images/w_600,f_auto,...</td>\n",
       "      <td>USA</td>\n",
       "      <td>en</td>\n",
       "      <td>4.5</td>\n",
       "      <td>35</td>\n",
       "      <td>2021-10-23 17:50:17.331255</td>\n",
       "    </tr>\n",
       "    <tr>\n",
       "      <th>1</th>\n",
       "      <td>https://www.adidas.com/us/five-ten-kestrel-lac...</td>\n",
       "      <td>Five Ten Kestrel Lace Mountain Bike Shoes</td>\n",
       "      <td>BC0770</td>\n",
       "      <td>150</td>\n",
       "      <td>NaN</td>\n",
       "      <td>USD</td>\n",
       "      <td>InStock</td>\n",
       "      <td>Grey</td>\n",
       "      <td>Shoes</td>\n",
       "      <td>adidas United States</td>\n",
       "      <td>https://www.adidas.com</td>\n",
       "      <td>Women/Shoes</td>\n",
       "      <td>Lace up and get after it. The Five Ten Kestrel...</td>\n",
       "      <td>adidas</td>\n",
       "      <td>https://assets.adidas.com/images/w_600,f_auto,...</td>\n",
       "      <td>USA</td>\n",
       "      <td>en</td>\n",
       "      <td>4.8</td>\n",
       "      <td>4</td>\n",
       "      <td>2021-10-23 17:50:17.423830</td>\n",
       "    </tr>\n",
       "    <tr>\n",
       "      <th>2</th>\n",
       "      <td>https://www.adidas.com/us/mexico-away-jersey/G...</td>\n",
       "      <td>Mexico Away Jersey</td>\n",
       "      <td>GC7946</td>\n",
       "      <td>70</td>\n",
       "      <td>NaN</td>\n",
       "      <td>USD</td>\n",
       "      <td>InStock</td>\n",
       "      <td>White</td>\n",
       "      <td>Clothing</td>\n",
       "      <td>adidas United States</td>\n",
       "      <td>https://www.adidas.com</td>\n",
       "      <td>Kids/Clothing</td>\n",
       "      <td>Clean and crisp, this adidas Mexico Away Jerse...</td>\n",
       "      <td>adidas</td>\n",
       "      <td>https://assets.adidas.com/images/w_600,f_auto,...</td>\n",
       "      <td>USA</td>\n",
       "      <td>en</td>\n",
       "      <td>4.9</td>\n",
       "      <td>42</td>\n",
       "      <td>2021-10-23 17:50:17.530834</td>\n",
       "    </tr>\n",
       "  </tbody>\n",
       "</table>\n",
       "</div>"
      ],
      "text/plain": [
       "                                                 url  \\\n",
       "0  https://www.adidas.com/us/beach-shorts/FJ5089....   \n",
       "1  https://www.adidas.com/us/five-ten-kestrel-lac...   \n",
       "2  https://www.adidas.com/us/mexico-away-jersey/G...   \n",
       "\n",
       "                                        name     sku  selling_price  \\\n",
       "0                               Beach Shorts  FJ5089             40   \n",
       "1  Five Ten Kestrel Lace Mountain Bike Shoes  BC0770            150   \n",
       "2                         Mexico Away Jersey  GC7946             70   \n",
       "\n",
       "  original_price currency availability  color  category                source  \\\n",
       "0            NaN      USD      InStock  Black  Clothing  adidas United States   \n",
       "1            NaN      USD      InStock   Grey     Shoes  adidas United States   \n",
       "2            NaN      USD      InStock  White  Clothing  adidas United States   \n",
       "\n",
       "           source_website     breadcrumbs  \\\n",
       "0  https://www.adidas.com  Women/Clothing   \n",
       "1  https://www.adidas.com     Women/Shoes   \n",
       "2  https://www.adidas.com   Kids/Clothing   \n",
       "\n",
       "                                         description   brand  \\\n",
       "0  Splashing in the surf. Making memories with yo...  adidas   \n",
       "1  Lace up and get after it. The Five Ten Kestrel...  adidas   \n",
       "2  Clean and crisp, this adidas Mexico Away Jerse...  adidas   \n",
       "\n",
       "                                              images country language  \\\n",
       "0  https://assets.adidas.com/images/w_600,f_auto,...     USA       en   \n",
       "1  https://assets.adidas.com/images/w_600,f_auto,...     USA       en   \n",
       "2  https://assets.adidas.com/images/w_600,f_auto,...     USA       en   \n",
       "\n",
       "   average_rating  reviews_count                  crawled_at  \n",
       "0             4.5             35  2021-10-23 17:50:17.331255  \n",
       "1             4.8              4  2021-10-23 17:50:17.423830  \n",
       "2             4.9             42  2021-10-23 17:50:17.530834  "
      ]
     },
     "execution_count": 3,
     "metadata": {},
     "output_type": "execute_result"
    }
   ],
   "source": [
    "# check all data\n",
    "df.head(3)"
   ]
  },
  {
   "cell_type": "code",
   "execution_count": 4,
   "metadata": {
    "colab": {
     "base_uri": "https://localhost:8080/"
    },
    "id": "HaVJqd_Nnvvc",
    "outputId": "c5fdd321-ac30-40b2-9ca4-42c01e926800"
   },
   "outputs": [
    {
     "name": "stdout",
     "output_type": "stream",
     "text": [
      "<class 'pandas.core.frame.DataFrame'>\n",
      "RangeIndex: 845 entries, 0 to 844\n",
      "Data columns (total 20 columns):\n",
      " #   Column          Non-Null Count  Dtype  \n",
      "---  ------          --------------  -----  \n",
      " 0   url             845 non-null    object \n",
      " 1   name            845 non-null    object \n",
      " 2   sku             845 non-null    object \n",
      " 3   selling_price   845 non-null    int64  \n",
      " 4   original_price  829 non-null    object \n",
      " 5   currency        845 non-null    object \n",
      " 6   availability    845 non-null    object \n",
      " 7   color           845 non-null    object \n",
      " 8   category        845 non-null    object \n",
      " 9   source          845 non-null    object \n",
      " 10  source_website  845 non-null    object \n",
      " 11  breadcrumbs     845 non-null    object \n",
      " 12  description     845 non-null    object \n",
      " 13  brand           845 non-null    object \n",
      " 14  images          845 non-null    object \n",
      " 15  country         845 non-null    object \n",
      " 16  language        845 non-null    object \n",
      " 17  average_rating  845 non-null    float64\n",
      " 18  reviews_count   845 non-null    int64  \n",
      " 19  crawled_at      845 non-null    object \n",
      "dtypes: float64(1), int64(2), object(17)\n",
      "memory usage: 132.2+ KB\n"
     ]
    }
   ],
   "source": [
    "# check data type\n",
    "df.info()"
   ]
  },
  {
   "cell_type": "code",
   "execution_count": 5,
   "metadata": {
    "colab": {
     "base_uri": "https://localhost:8080/"
    },
    "id": "ng4b_SN8qMYT",
    "outputId": "06150d1a-e349-4551-a06b-1a44da6b8d92"
   },
   "outputs": [
    {
     "data": {
      "text/plain": [
       "56     54\n",
       "20     51\n",
       "52     42\n",
       "32     40\n",
       "36     39\n",
       "       ..\n",
       "110     1\n",
       "38      1\n",
       "59      1\n",
       "160     1\n",
       "15      1\n",
       "Name: selling_price, Length: 73, dtype: int64"
      ]
     },
     "execution_count": 5,
     "metadata": {},
     "output_type": "execute_result"
    }
   ],
   "source": [
    "# check amount of selling price\n",
    "df.selling_price.value_counts()"
   ]
  },
  {
   "cell_type": "code",
   "execution_count": 6,
   "metadata": {
    "colab": {
     "base_uri": "https://localhost:8080/"
    },
    "id": "EZzYO65oqfgJ",
    "outputId": "6473c352-d9f7-4ca8-9e74-286014781882"
   },
   "outputs": [
    {
     "data": {
      "text/plain": [
       "$65     68\n",
       "$25     57\n",
       "$100    55\n",
       "$45     55\n",
       "$30     49\n",
       "$90     48\n",
       "$70     47\n",
       "$80     46\n",
       "$35     40\n",
       "$120    35\n",
       "$50     33\n",
       "$60     32\n",
       "$40     32\n",
       "$55     32\n",
       "$150    29\n",
       "$75     26\n",
       "$85     23\n",
       "$28     17\n",
       "$20     12\n",
       "$140    11\n",
       "$110    11\n",
       "$180     9\n",
       "$200     9\n",
       "$18      9\n",
       "$14      8\n",
       "$160     6\n",
       "$22      4\n",
       "$130     4\n",
       "$26      3\n",
       "$23      2\n",
       "$43      2\n",
       "$58      2\n",
       "$16      2\n",
       "$15      2\n",
       "$32      2\n",
       "$300     1\n",
       "$24      1\n",
       "$52      1\n",
       "$33      1\n",
       "$280     1\n",
       "$250     1\n",
       "$44      1\n",
       "Name: original_price, dtype: int64"
      ]
     },
     "execution_count": 6,
     "metadata": {},
     "output_type": "execute_result"
    }
   ],
   "source": [
    "# check amount of original price\n",
    "df.original_price.value_counts()"
   ]
  },
  {
   "cell_type": "code",
   "execution_count": 7,
   "metadata": {
    "colab": {
     "base_uri": "https://localhost:8080/"
    },
    "id": "hxOW5pRtrt69",
    "outputId": "2764641f-eda1-4674-c5d1-5d921bbd31ed"
   },
   "outputs": [
    {
     "data": {
      "text/plain": [
       "USD    845\n",
       "Name: currency, dtype: int64"
      ]
     },
     "execution_count": 7,
     "metadata": {},
     "output_type": "execute_result"
    }
   ],
   "source": [
    "# check amount of currency\n",
    "df.currency.value_counts()"
   ]
  },
  {
   "cell_type": "code",
   "execution_count": 8,
   "metadata": {
    "colab": {
     "base_uri": "https://localhost:8080/"
    },
    "id": "m0lDewu1q_oH",
    "outputId": "1dac5ad0-09d1-4feb-a88b-3ba18c7d840f"
   },
   "outputs": [
    {
     "data": {
      "text/plain": [
       "InStock       842\n",
       "OutOfStock      3\n",
       "Name: availability, dtype: int64"
      ]
     },
     "execution_count": 8,
     "metadata": {},
     "output_type": "execute_result"
    }
   ],
   "source": [
    "# check amount of availability\n",
    "df.availability.value_counts()"
   ]
  },
  {
   "cell_type": "code",
   "execution_count": 9,
   "metadata": {
    "colab": {
     "base_uri": "https://localhost:8080/"
    },
    "id": "FgUypRsDrMDL",
    "outputId": "a21553c6-82d4-4875-e0ec-d0f627913614"
   },
   "outputs": [
    {
     "data": {
      "text/plain": [
       "White         222\n",
       "Black         187\n",
       "Blue          104\n",
       "Grey           81\n",
       "Pink           62\n",
       "Green          59\n",
       "Purple         31\n",
       "Red            25\n",
       "Multicolor     20\n",
       "Yellow         17\n",
       "Orange         11\n",
       "Burgundy        9\n",
       "Beige           6\n",
       "Multi           4\n",
       "Gold            3\n",
       "Turquoise       2\n",
       "Silver          1\n",
       "Brown           1\n",
       "Name: color, dtype: int64"
      ]
     },
     "execution_count": 9,
     "metadata": {},
     "output_type": "execute_result"
    }
   ],
   "source": [
    "# check amount of color\n",
    "df.color.value_counts()"
   ]
  },
  {
   "cell_type": "code",
   "execution_count": 10,
   "metadata": {
    "colab": {
     "base_uri": "https://localhost:8080/"
    },
    "id": "uMleaRNorQmC",
    "outputId": "895f5335-fc0b-4cd6-d196-c3ea343d048d"
   },
   "outputs": [
    {
     "data": {
      "text/plain": [
       "Shoes          426\n",
       "Clothing       337\n",
       "Accessories     82\n",
       "Name: category, dtype: int64"
      ]
     },
     "execution_count": 10,
     "metadata": {},
     "output_type": "execute_result"
    }
   ],
   "source": [
    "# check amount of category\n",
    "df.category.value_counts()"
   ]
  },
  {
   "cell_type": "code",
   "execution_count": 11,
   "metadata": {
    "colab": {
     "base_uri": "https://localhost:8080/"
    },
    "id": "Zowc9MndZSDe",
    "outputId": "68606870-c3be-4a43-eefa-86c3d7f53835"
   },
   "outputs": [
    {
     "data": {
      "text/plain": [
       "Women/Clothing           176\n",
       "Women/Shoes              155\n",
       "Men/Shoes                142\n",
       "Men/Clothing             128\n",
       "Kids/Shoes                70\n",
       "Originals/Shoes           35\n",
       "Kids/Clothing             30\n",
       "Training/Accessories      25\n",
       "Originals/Accessories     22\n",
       "Women/Accessories         16\n",
       "Men/Accessories           15\n",
       "Soccer/Shoes              10\n",
       "Swim/Shoes                 7\n",
       "Running/Shoes              5\n",
       "Soccer/Accessories         2\n",
       "Essentials/Shoes           1\n",
       "Five Ten/Shoes             1\n",
       "Originals/Clothing         1\n",
       "Essentials/Clothing        1\n",
       "Sportswear/Clothing        1\n",
       "Running/Accessories        1\n",
       "Kids/Accessories           1\n",
       "Name: breadcrumbs, dtype: int64"
      ]
     },
     "execution_count": 11,
     "metadata": {},
     "output_type": "execute_result"
    }
   ],
   "source": [
    "df.breadcrumbs.value_counts()"
   ]
  },
  {
   "cell_type": "code",
   "execution_count": 12,
   "metadata": {
    "colab": {
     "base_uri": "https://localhost:8080/"
    },
    "id": "eiCHkpXQr4eG",
    "outputId": "eb5df2e4-4b92-41af-b6c0-65306f615caf"
   },
   "outputs": [
    {
     "data": {
      "text/plain": [
       "adidas    845\n",
       "Name: brand, dtype: int64"
      ]
     },
     "execution_count": 12,
     "metadata": {},
     "output_type": "execute_result"
    }
   ],
   "source": [
    "# check amount of brand\n",
    "df.brand.value_counts()"
   ]
  },
  {
   "cell_type": "code",
   "execution_count": 13,
   "metadata": {
    "colab": {
     "base_uri": "https://localhost:8080/"
    },
    "id": "AFJD8FTBrciL",
    "outputId": "b1556695-e9e0-444f-b436-08f30b29342d"
   },
   "outputs": [
    {
     "data": {
      "text/plain": [
       "USA    845\n",
       "Name: country, dtype: int64"
      ]
     },
     "execution_count": 13,
     "metadata": {},
     "output_type": "execute_result"
    }
   ],
   "source": [
    "# check amount of country\n",
    "df.country.value_counts()"
   ]
  },
  {
   "cell_type": "code",
   "execution_count": 14,
   "metadata": {
    "colab": {
     "base_uri": "https://localhost:8080/"
    },
    "id": "8Ds-0EitrhPM",
    "outputId": "959864a7-93ab-4585-9fef-bb12e83539ea"
   },
   "outputs": [
    {
     "data": {
      "text/plain": [
       "en    845\n",
       "Name: language, dtype: int64"
      ]
     },
     "execution_count": 14,
     "metadata": {},
     "output_type": "execute_result"
    }
   ],
   "source": [
    "# check amount of language\n",
    "df.language.value_counts()"
   ]
  },
  {
   "cell_type": "code",
   "execution_count": 15,
   "metadata": {
    "colab": {
     "base_uri": "https://localhost:8080/"
    },
    "id": "gNPPKQ0vsEse",
    "outputId": "43574de9-e878-4080-fde1-75e1266a2f46"
   },
   "outputs": [
    {
     "data": {
      "text/plain": [
       "4.8    165\n",
       "4.7    160\n",
       "4.6    120\n",
       "4.5    103\n",
       "5.0     72\n",
       "4.2     51\n",
       "4.4     50\n",
       "4.9     46\n",
       "4.3     29\n",
       "3.9     14\n",
       "4.1     14\n",
       "4.0     13\n",
       "3.7      5\n",
       "3.0      1\n",
       "1.0      1\n",
       "3.8      1\n",
       "Name: average_rating, dtype: int64"
      ]
     },
     "execution_count": 15,
     "metadata": {},
     "output_type": "execute_result"
    }
   ],
   "source": [
    "# check amount of average rating\n",
    "df.average_rating.value_counts()"
   ]
  },
  {
   "cell_type": "code",
   "execution_count": 16,
   "metadata": {
    "colab": {
     "base_uri": "https://localhost:8080/"
    },
    "id": "JkvTx_yesSKM",
    "outputId": "990de2f2-ce56-4bac-a1b3-911686f074c5"
   },
   "outputs": [
    {
     "data": {
      "text/plain": [
       "1       23\n",
       "2       22\n",
       "5       16\n",
       "4       15\n",
       "9       15\n",
       "        ..\n",
       "375      1\n",
       "128      1\n",
       "387      1\n",
       "1702     1\n",
       "74       1\n",
       "Name: reviews_count, Length: 211, dtype: int64"
      ]
     },
     "execution_count": 16,
     "metadata": {},
     "output_type": "execute_result"
    }
   ],
   "source": [
    "#check amount of reviews count\n",
    "df.reviews_count.value_counts()"
   ]
  },
  {
   "cell_type": "markdown",
   "metadata": {
    "id": "vndC4GJ2uble"
   },
   "source": [
    "## Data Cleaning: Check and Handling Missing Values"
   ]
  },
  {
   "cell_type": "code",
   "execution_count": 17,
   "metadata": {
    "colab": {
     "base_uri": "https://localhost:8080/"
    },
    "id": "B01oGh44n5PK",
    "outputId": "d458983e-00eb-4d1d-d035-1c69b09a83ba"
   },
   "outputs": [
    {
     "data": {
      "text/plain": [
       "url                0\n",
       "name               0\n",
       "sku                0\n",
       "selling_price      0\n",
       "original_price    16\n",
       "currency           0\n",
       "availability       0\n",
       "color              0\n",
       "category           0\n",
       "source             0\n",
       "source_website     0\n",
       "breadcrumbs        0\n",
       "description        0\n",
       "brand              0\n",
       "images             0\n",
       "country            0\n",
       "language           0\n",
       "average_rating     0\n",
       "reviews_count      0\n",
       "crawled_at         0\n",
       "dtype: int64"
      ]
     },
     "execution_count": 17,
     "metadata": {},
     "output_type": "execute_result"
    }
   ],
   "source": [
    "# check missing value\n",
    "df.isna().sum()"
   ]
  },
  {
   "cell_type": "code",
   "execution_count": 18,
   "metadata": {
    "colab": {
     "base_uri": "https://localhost:8080/",
     "height": 364
    },
    "id": "PE77uBqYugtX",
    "outputId": "a2d26fa5-2ee9-4416-f0cd-6c7b5708bacc"
   },
   "outputs": [
    {
     "data": {
      "text/html": [
       "<div>\n",
       "<style scoped>\n",
       "    .dataframe tbody tr th:only-of-type {\n",
       "        vertical-align: middle;\n",
       "    }\n",
       "\n",
       "    .dataframe tbody tr th {\n",
       "        vertical-align: top;\n",
       "    }\n",
       "\n",
       "    .dataframe thead th {\n",
       "        text-align: right;\n",
       "    }\n",
       "</style>\n",
       "<table border=\"1\" class=\"dataframe\">\n",
       "  <thead>\n",
       "    <tr style=\"text-align: right;\">\n",
       "      <th></th>\n",
       "      <th>url</th>\n",
       "      <th>name</th>\n",
       "      <th>sku</th>\n",
       "      <th>selling_price</th>\n",
       "      <th>original_price</th>\n",
       "      <th>currency</th>\n",
       "      <th>availability</th>\n",
       "      <th>color</th>\n",
       "      <th>category</th>\n",
       "      <th>source</th>\n",
       "      <th>source_website</th>\n",
       "      <th>breadcrumbs</th>\n",
       "      <th>description</th>\n",
       "      <th>brand</th>\n",
       "      <th>images</th>\n",
       "      <th>country</th>\n",
       "      <th>language</th>\n",
       "      <th>average_rating</th>\n",
       "      <th>reviews_count</th>\n",
       "      <th>crawled_at</th>\n",
       "    </tr>\n",
       "  </thead>\n",
       "  <tbody>\n",
       "    <tr>\n",
       "      <th>0</th>\n",
       "      <td>https://www.adidas.com/us/essentials-loose-log...</td>\n",
       "      <td>Essentials Loose Logo Tank Top</td>\n",
       "      <td>H07758</td>\n",
       "      <td>20</td>\n",
       "      <td>$25</td>\n",
       "      <td>USD</td>\n",
       "      <td>InStock</td>\n",
       "      <td>Purple</td>\n",
       "      <td>Clothing</td>\n",
       "      <td>adidas United States</td>\n",
       "      <td>https://www.adidas.com</td>\n",
       "      <td>Women/Clothing</td>\n",
       "      <td>What's on the agenda? Whether it's a quick lun...</td>\n",
       "      <td>adidas</td>\n",
       "      <td>https://assets.adidas.com/images/w_600,f_auto,...</td>\n",
       "      <td>USA</td>\n",
       "      <td>en</td>\n",
       "      <td>4.8</td>\n",
       "      <td>116</td>\n",
       "      <td>2021-10-23 17:50:19.626607</td>\n",
       "    </tr>\n",
       "    <tr>\n",
       "      <th>1</th>\n",
       "      <td>https://www.adidas.com/us/essentials-loose-log...</td>\n",
       "      <td>Essentials Loose Logo Tank Top</td>\n",
       "      <td>H07757</td>\n",
       "      <td>20</td>\n",
       "      <td>$25</td>\n",
       "      <td>USD</td>\n",
       "      <td>InStock</td>\n",
       "      <td>Pink</td>\n",
       "      <td>Clothing</td>\n",
       "      <td>adidas United States</td>\n",
       "      <td>https://www.adidas.com</td>\n",
       "      <td>Women/Clothing</td>\n",
       "      <td>What's on the agenda? Whether it's a quick lun...</td>\n",
       "      <td>adidas</td>\n",
       "      <td>https://assets.adidas.com/images/w_600,f_auto,...</td>\n",
       "      <td>USA</td>\n",
       "      <td>en</td>\n",
       "      <td>4.8</td>\n",
       "      <td>116</td>\n",
       "      <td>2021-10-23 17:50:19.814818</td>\n",
       "    </tr>\n",
       "    <tr>\n",
       "      <th>2</th>\n",
       "      <td>https://www.adidas.com/us/essentials-loose-log...</td>\n",
       "      <td>Essentials Loose Logo Tank Top</td>\n",
       "      <td>H07756</td>\n",
       "      <td>20</td>\n",
       "      <td>$25</td>\n",
       "      <td>USD</td>\n",
       "      <td>InStock</td>\n",
       "      <td>Green</td>\n",
       "      <td>Clothing</td>\n",
       "      <td>adidas United States</td>\n",
       "      <td>https://www.adidas.com</td>\n",
       "      <td>Women/Clothing</td>\n",
       "      <td>What's on the agenda? Whether it's a quick lun...</td>\n",
       "      <td>adidas</td>\n",
       "      <td>https://assets.adidas.com/images/w_600,f_auto,...</td>\n",
       "      <td>USA</td>\n",
       "      <td>en</td>\n",
       "      <td>4.8</td>\n",
       "      <td>116</td>\n",
       "      <td>2021-10-23 17:50:19.974618</td>\n",
       "    </tr>\n",
       "  </tbody>\n",
       "</table>\n",
       "</div>"
      ],
      "text/plain": [
       "                                                 url  \\\n",
       "0  https://www.adidas.com/us/essentials-loose-log...   \n",
       "1  https://www.adidas.com/us/essentials-loose-log...   \n",
       "2  https://www.adidas.com/us/essentials-loose-log...   \n",
       "\n",
       "                             name     sku  selling_price original_price  \\\n",
       "0  Essentials Loose Logo Tank Top  H07758             20            $25   \n",
       "1  Essentials Loose Logo Tank Top  H07757             20            $25   \n",
       "2  Essentials Loose Logo Tank Top  H07756             20            $25   \n",
       "\n",
       "  currency availability   color  category                source  \\\n",
       "0      USD      InStock  Purple  Clothing  adidas United States   \n",
       "1      USD      InStock    Pink  Clothing  adidas United States   \n",
       "2      USD      InStock   Green  Clothing  adidas United States   \n",
       "\n",
       "           source_website     breadcrumbs  \\\n",
       "0  https://www.adidas.com  Women/Clothing   \n",
       "1  https://www.adidas.com  Women/Clothing   \n",
       "2  https://www.adidas.com  Women/Clothing   \n",
       "\n",
       "                                         description   brand  \\\n",
       "0  What's on the agenda? Whether it's a quick lun...  adidas   \n",
       "1  What's on the agenda? Whether it's a quick lun...  adidas   \n",
       "2  What's on the agenda? Whether it's a quick lun...  adidas   \n",
       "\n",
       "                                              images country language  \\\n",
       "0  https://assets.adidas.com/images/w_600,f_auto,...     USA       en   \n",
       "1  https://assets.adidas.com/images/w_600,f_auto,...     USA       en   \n",
       "2  https://assets.adidas.com/images/w_600,f_auto,...     USA       en   \n",
       "\n",
       "   average_rating  reviews_count                  crawled_at  \n",
       "0             4.8            116  2021-10-23 17:50:19.626607  \n",
       "1             4.8            116  2021-10-23 17:50:19.814818  \n",
       "2             4.8            116  2021-10-23 17:50:19.974618  "
      ]
     },
     "execution_count": 18,
     "metadata": {},
     "output_type": "execute_result"
    }
   ],
   "source": [
    "# drop missing value\n",
    "df = df[~df['original_price'].isna()].reset_index(drop = True)\n",
    "df.head(3)"
   ]
  },
  {
   "cell_type": "code",
   "execution_count": 19,
   "metadata": {
    "colab": {
     "base_uri": "https://localhost:8080/"
    },
    "id": "X4DEAEHivhcA",
    "outputId": "75922795-8804-4fce-8968-98defbb261a3"
   },
   "outputs": [
    {
     "data": {
      "text/plain": [
       "url               0\n",
       "name              0\n",
       "sku               0\n",
       "selling_price     0\n",
       "original_price    0\n",
       "currency          0\n",
       "availability      0\n",
       "color             0\n",
       "category          0\n",
       "source            0\n",
       "source_website    0\n",
       "breadcrumbs       0\n",
       "description       0\n",
       "brand             0\n",
       "images            0\n",
       "country           0\n",
       "language          0\n",
       "average_rating    0\n",
       "reviews_count     0\n",
       "crawled_at        0\n",
       "dtype: int64"
      ]
     },
     "execution_count": 19,
     "metadata": {},
     "output_type": "execute_result"
    }
   ],
   "source": [
    "# re-check missing value\n",
    "df.isna().sum()"
   ]
  },
  {
   "cell_type": "markdown",
   "metadata": {
    "id": "5Jnsmddq8lGC"
   },
   "source": [
    "## Data Preprocessing"
   ]
  },
  {
   "cell_type": "markdown",
   "metadata": {
    "id": "jHJoCVcZkiSj"
   },
   "source": [
    "### Change Data Type"
   ]
  },
  {
   "cell_type": "code",
   "execution_count": 20,
   "metadata": {
    "colab": {
     "base_uri": "https://localhost:8080/"
    },
    "id": "-5UKSVtwvhiG",
    "outputId": "c99547c4-0837-43dc-b624-cde3acfd9d20"
   },
   "outputs": [
    {
     "name": "stderr",
     "output_type": "stream",
     "text": [
      "C:\\Users\\ASUS\\AppData\\Local\\Temp\\ipykernel_11888\\2387695734.py:2: FutureWarning: The default value of regex will change from True to False in a future version. In addition, single character regular expressions will *not* be treated as literal strings when regex=True.\n",
      "  df['original_price'] = df['original_price'].str.replace('$','')\n"
     ]
    }
   ],
   "source": [
    "# delete dollar sign from the original price column\n",
    "df['original_price'] = df['original_price'].str.replace('$','')\n",
    "\n",
    "# change original price data type from string to integer\n",
    "df['original_price'] = df['original_price'].astype(int)"
   ]
  },
  {
   "cell_type": "code",
   "execution_count": 21,
   "metadata": {
    "id": "7KvhApgKbGPR"
   },
   "outputs": [],
   "source": [
    "# split breadcrumb column to get category and product type column\n",
    "df['product_type'] = df['breadcrumbs'].str.split('/')\n",
    "df['category'] = df['product_type'].str[0]\n",
    "df['product_type'] = df['product_type'].str[1]"
   ]
  },
  {
   "cell_type": "code",
   "execution_count": 22,
   "metadata": {
    "id": "_ivZDE5IFe15"
   },
   "outputs": [],
   "source": [
    "# change crawled at data type from string to datetime\n",
    "df['crawled_at'] = pd.to_datetime(df['original_price'])"
   ]
  },
  {
   "cell_type": "markdown",
   "metadata": {
    "id": "Kn2xqLybk9sX"
   },
   "source": [
    "### Drop unnecessary columns"
   ]
  },
  {
   "cell_type": "code",
   "execution_count": 23,
   "metadata": {
    "id": "f7YSLuBOlH5m"
   },
   "outputs": [],
   "source": [
    "# drop columns\n",
    "df.drop(['url', 'sku', 'currency', 'source', 'source_website', 'breadcrumbs', 'description', 'brand', 'images', 'country', 'language', 'crawled_at'], axis = 1, inplace = True)"
   ]
  },
  {
   "cell_type": "code",
   "execution_count": 24,
   "metadata": {
    "colab": {
     "base_uri": "https://localhost:8080/",
     "height": 206
    },
    "id": "D2ck8D6B9xNn",
    "outputId": "f2dc4f9a-0a2a-43e8-a27a-31d73fb3585d"
   },
   "outputs": [
    {
     "data": {
      "text/html": [
       "<div>\n",
       "<style scoped>\n",
       "    .dataframe tbody tr th:only-of-type {\n",
       "        vertical-align: middle;\n",
       "    }\n",
       "\n",
       "    .dataframe tbody tr th {\n",
       "        vertical-align: top;\n",
       "    }\n",
       "\n",
       "    .dataframe thead th {\n",
       "        text-align: right;\n",
       "    }\n",
       "</style>\n",
       "<table border=\"1\" class=\"dataframe\">\n",
       "  <thead>\n",
       "    <tr style=\"text-align: right;\">\n",
       "      <th></th>\n",
       "      <th>name</th>\n",
       "      <th>selling_price</th>\n",
       "      <th>original_price</th>\n",
       "      <th>availability</th>\n",
       "      <th>color</th>\n",
       "      <th>category</th>\n",
       "      <th>average_rating</th>\n",
       "      <th>reviews_count</th>\n",
       "      <th>product_type</th>\n",
       "    </tr>\n",
       "  </thead>\n",
       "  <tbody>\n",
       "    <tr>\n",
       "      <th>0</th>\n",
       "      <td>Essentials Loose Logo Tank Top</td>\n",
       "      <td>20</td>\n",
       "      <td>25</td>\n",
       "      <td>InStock</td>\n",
       "      <td>Purple</td>\n",
       "      <td>Women</td>\n",
       "      <td>4.8</td>\n",
       "      <td>116</td>\n",
       "      <td>Clothing</td>\n",
       "    </tr>\n",
       "    <tr>\n",
       "      <th>1</th>\n",
       "      <td>Essentials Loose Logo Tank Top</td>\n",
       "      <td>20</td>\n",
       "      <td>25</td>\n",
       "      <td>InStock</td>\n",
       "      <td>Pink</td>\n",
       "      <td>Women</td>\n",
       "      <td>4.8</td>\n",
       "      <td>116</td>\n",
       "      <td>Clothing</td>\n",
       "    </tr>\n",
       "    <tr>\n",
       "      <th>2</th>\n",
       "      <td>Essentials Loose Logo Tank Top</td>\n",
       "      <td>20</td>\n",
       "      <td>25</td>\n",
       "      <td>InStock</td>\n",
       "      <td>Green</td>\n",
       "      <td>Women</td>\n",
       "      <td>4.8</td>\n",
       "      <td>116</td>\n",
       "      <td>Clothing</td>\n",
       "    </tr>\n",
       "    <tr>\n",
       "      <th>3</th>\n",
       "      <td>Formotion Sculpt Tights</td>\n",
       "      <td>48</td>\n",
       "      <td>80</td>\n",
       "      <td>InStock</td>\n",
       "      <td>Blue</td>\n",
       "      <td>Women</td>\n",
       "      <td>4.2</td>\n",
       "      <td>144</td>\n",
       "      <td>Clothing</td>\n",
       "    </tr>\n",
       "    <tr>\n",
       "      <th>4</th>\n",
       "      <td>Marvel X Ghosted.3 Firm Ground Cleats</td>\n",
       "      <td>64</td>\n",
       "      <td>80</td>\n",
       "      <td>InStock</td>\n",
       "      <td>Blue</td>\n",
       "      <td>Soccer</td>\n",
       "      <td>4.4</td>\n",
       "      <td>160</td>\n",
       "      <td>Shoes</td>\n",
       "    </tr>\n",
       "  </tbody>\n",
       "</table>\n",
       "</div>"
      ],
      "text/plain": [
       "                                    name  selling_price  original_price  \\\n",
       "0         Essentials Loose Logo Tank Top             20              25   \n",
       "1         Essentials Loose Logo Tank Top             20              25   \n",
       "2         Essentials Loose Logo Tank Top             20              25   \n",
       "3                Formotion Sculpt Tights             48              80   \n",
       "4  Marvel X Ghosted.3 Firm Ground Cleats             64              80   \n",
       "\n",
       "  availability   color category  average_rating  reviews_count product_type  \n",
       "0      InStock  Purple    Women             4.8            116     Clothing  \n",
       "1      InStock    Pink    Women             4.8            116     Clothing  \n",
       "2      InStock   Green    Women             4.8            116     Clothing  \n",
       "3      InStock    Blue    Women             4.2            144     Clothing  \n",
       "4      InStock    Blue   Soccer             4.4            160        Shoes  "
      ]
     },
     "execution_count": 24,
     "metadata": {},
     "output_type": "execute_result"
    }
   ],
   "source": [
    "df.head()"
   ]
  },
  {
   "cell_type": "markdown",
   "metadata": {
    "id": "kljGWC1hGNDH"
   },
   "source": [
    "# Exploratory Data Analysis"
   ]
  },
  {
   "cell_type": "code",
   "execution_count": 25,
   "metadata": {
    "colab": {
     "base_uri": "https://localhost:8080/",
     "height": 299
    },
    "id": "7CY-uUiBGQ0G",
    "outputId": "eb732182-8688-422d-b133-f049a27a7ca9"
   },
   "outputs": [
    {
     "data": {
      "text/plain": [
       "Text(0.5, 1.0, 'Correlation Heatmap')"
      ]
     },
     "execution_count": 25,
     "metadata": {},
     "output_type": "execute_result"
    },
    {
     "data": {
      "image/png": "[encoded data removed]",
      "text/plain": [
       "<Figure size 576x288 with 2 Axes>"
      ]
     },
     "metadata": {
      "needs_background": "light"
     },
     "output_type": "display_data"
    }
   ],
   "source": [
    "# heatmap\n",
    "plt.figure(figsize=(8,4))\n",
    "sns.heatmap(df.corr(method = 'spearman'), cmap = \"mako\", annot = True)\n",
    "plt.title('Correlation Heatmap')"
   ]
  },
  {
   "cell_type": "markdown",
   "metadata": {
    "id": "kieXsokbouJ0"
   },
   "source": [
    "We can see from the graph above that selling price is highly correlated with original price"
   ]
  },
  {
   "cell_type": "code",
   "execution_count": 26,
   "metadata": {
    "colab": {
     "base_uri": "https://localhost:8080/",
     "height": 297
    },
    "id": "3L2xlFMEo0Iu",
    "outputId": "f4d7415d-badd-499d-8da1-e3a7d2447cbd"
   },
   "outputs": [
    {
     "data": {
      "text/plain": [
       "<AxesSubplot:xlabel='selling_price', ylabel='original_price'>"
      ]
     },
     "execution_count": 26,
     "metadata": {},
     "output_type": "execute_result"
    },
    {
     "data": {
      "image/png": "[encoded data removed]",
      "text/plain": [
       "<Figure size 432x288 with 1 Axes>"
      ]
     },
     "metadata": {
      "needs_background": "light"
     },
     "output_type": "display_data"
    }
   ],
   "source": [
    "# scatter plot\n",
    "sns.scatterplot(data = df, x = df['selling_price'], y = df['original_price'])"
   ]
  },
  {
   "cell_type": "code",
   "execution_count": 27,
   "metadata": {
    "colab": {
     "base_uri": "https://localhost:8080/",
     "height": 297
    },
    "id": "K96eL_7m4kIZ",
    "outputId": "308a8b48-aa73-46cd-f341-1eccf68d3a2f"
   },
   "outputs": [
    {
     "data": {
      "text/plain": [
       "<AxesSubplot:xlabel='average_rating', ylabel='reviews_count'>"
      ]
     },
     "execution_count": 27,
     "metadata": {},
     "output_type": "execute_result"
    },
    {
     "data": {
      "image/png": "[encoded data removed]",
      "text/plain": [
       "<Figure size 432x288 with 1 Axes>"
      ]
     },
     "metadata": {
      "needs_background": "light"
     },
     "output_type": "display_data"
    }
   ],
   "source": [
    "sns.scatterplot(data = df, x = df['average_rating'], y = df['reviews_count'])"
   ]
  },
  {
   "cell_type": "markdown",
   "metadata": {
    "id": "iK8ctIC-7xJN"
   },
   "source": [
    "## Product name"
   ]
  },
  {
   "cell_type": "code",
   "execution_count": 28,
   "metadata": {
    "colab": {
     "base_uri": "https://localhost:8080/"
    },
    "id": "LpbjJYCg7wjY",
    "outputId": "0d7b968c-ed18-4e36-8c7e-7417c1472d19"
   },
   "outputs": [
    {
     "data": {
      "text/plain": [
       "ZX 1K Boost Shoes          24\n",
       "ZX 2K Boost Shoes          18\n",
       "Superstar Shoes            15\n",
       "EQ21 Run Shoes             13\n",
       "Racer TR21 Shoes           12\n",
       "ZX 2K Boost 2.0 Shoes      10\n",
       "Supernova+ Shoes            9\n",
       "4D Fusio Shoes              9\n",
       "Adilette Comfort Slides     9\n",
       "Swift Run X Shoes           9\n",
       "Name: name, dtype: int64"
      ]
     },
     "execution_count": 28,
     "metadata": {},
     "output_type": "execute_result"
    }
   ],
   "source": [
    "# Top 10 Products by Sold Quantity\n",
    "top_10_products_sold = df['name'].value_counts()[:10]\n",
    "top_10_products_sold"
   ]
  },
  {
   "cell_type": "code",
   "execution_count": 29,
   "metadata": {
    "colab": {
     "base_uri": "https://localhost:8080/",
     "height": 315
    },
    "id": "wh_HoHn68Xwc",
    "outputId": "d1d136fc-ae1a-4b1b-bfa6-ca17ed8ad71d"
   },
   "outputs": [
    {
     "data": {
      "text/plain": [
       "Text(0.5, 1.0, 'Top 10 Products Sold')"
      ]
     },
     "execution_count": 29,
     "metadata": {},
     "output_type": "execute_result"
    },
    {
     "data": {
      "image/png": "[encoded data removed]",
      "text/plain": [
       "<Figure size 576x288 with 1 Axes>"
      ]
     },
     "metadata": {
      "needs_background": "light"
     },
     "output_type": "display_data"
    }
   ],
   "source": [
    "plt.figure(figsize=(8,4))\n",
    "top_10_products_sold.plot.barh(color = 'green')\n",
    "plt.xlabel('Number of products sold', fontsize = 12)\n",
    "plt.ylabel('Product name', fontsize = 12)\n",
    "plt.title('Top 10 Products Sold')"
   ]
  },
  {
   "cell_type": "code",
   "execution_count": 30,
   "metadata": {
    "colab": {
     "base_uri": "https://localhost:8080/",
     "height": 395
    },
    "id": "lXkIqAv50__Q",
    "outputId": "efadb325-753c-45eb-e5f8-4b26d54fdb63"
   },
   "outputs": [
    {
     "data": {
      "text/html": [
       "<div>\n",
       "<style scoped>\n",
       "    .dataframe tbody tr th:only-of-type {\n",
       "        vertical-align: middle;\n",
       "    }\n",
       "\n",
       "    .dataframe tbody tr th {\n",
       "        vertical-align: top;\n",
       "    }\n",
       "\n",
       "    .dataframe thead th {\n",
       "        text-align: right;\n",
       "    }\n",
       "</style>\n",
       "<table border=\"1\" class=\"dataframe\">\n",
       "  <thead>\n",
       "    <tr style=\"text-align: right;\">\n",
       "      <th></th>\n",
       "      <th>reviews_count</th>\n",
       "    </tr>\n",
       "    <tr>\n",
       "      <th>name</th>\n",
       "      <th></th>\n",
       "    </tr>\n",
       "  </thead>\n",
       "  <tbody>\n",
       "    <tr>\n",
       "      <th>Stan Smith Shoes</th>\n",
       "      <td>42623</td>\n",
       "    </tr>\n",
       "    <tr>\n",
       "      <th>Superstar Shoes</th>\n",
       "      <td>41988</td>\n",
       "    </tr>\n",
       "    <tr>\n",
       "      <th>Adilette Comfort Slides</th>\n",
       "      <td>37538</td>\n",
       "    </tr>\n",
       "    <tr>\n",
       "      <th>ZX 2K Boost Shoes</th>\n",
       "      <td>25248</td>\n",
       "    </tr>\n",
       "    <tr>\n",
       "      <th>Adilette Comfort Sandals</th>\n",
       "      <td>14582</td>\n",
       "    </tr>\n",
       "    <tr>\n",
       "      <th>Adilette Aqua Slides</th>\n",
       "      <td>12321</td>\n",
       "    </tr>\n",
       "    <tr>\n",
       "      <th>Adilette Shower Slides</th>\n",
       "      <td>11957</td>\n",
       "    </tr>\n",
       "    <tr>\n",
       "      <th>Ultraboost 21 Shoes</th>\n",
       "      <td>11941</td>\n",
       "    </tr>\n",
       "    <tr>\n",
       "      <th>HULK STAN SMITH SHOES</th>\n",
       "      <td>11758</td>\n",
       "    </tr>\n",
       "    <tr>\n",
       "      <th>Swift Run X Shoes</th>\n",
       "      <td>7962</td>\n",
       "    </tr>\n",
       "  </tbody>\n",
       "</table>\n",
       "</div>"
      ],
      "text/plain": [
       "                          reviews_count\n",
       "name                                   \n",
       "Stan Smith Shoes                  42623\n",
       "Superstar Shoes                   41988\n",
       "Adilette Comfort Slides           37538\n",
       "ZX 2K Boost Shoes                 25248\n",
       "Adilette Comfort Sandals          14582\n",
       "Adilette Aqua Slides              12321\n",
       "Adilette Shower Slides            11957\n",
       "Ultraboost 21 Shoes               11941\n",
       "HULK STAN SMITH SHOES             11758\n",
       "Swift Run X Shoes                  7962"
      ]
     },
     "execution_count": 30,
     "metadata": {},
     "output_type": "execute_result"
    }
   ],
   "source": [
    "# Top 10 Products by Review Counts\n",
    "top_10_reviews_count_products = df.groupby(['name']).agg({'reviews_count':'sum'})\n",
    "top_10_reviews_count_products = top_10_reviews_count_products.sort_values('reviews_count', ascending = False).head(10)\n",
    "top_10_reviews_count_products"
   ]
  },
  {
   "cell_type": "code",
   "execution_count": 31,
   "metadata": {
    "colab": {
     "base_uri": "https://localhost:8080/",
     "height": 333
    },
    "id": "MBT7z07N5WQ2",
    "outputId": "a123cf94-69ac-4f7a-d7a4-8dda3d7e11aa"
   },
   "outputs": [
    {
     "data": {
      "text/plain": [
       "Text(0.5, 1.0, 'Top 10 Products Sold')"
      ]
     },
     "execution_count": 31,
     "metadata": {},
     "output_type": "execute_result"
    },
    {
     "data": {
      "text/plain": [
       "<Figure size 576x288 with 0 Axes>"
      ]
     },
     "metadata": {},
     "output_type": "display_data"
    },
    {
     "data": {
      "image/png": "[encoded data removed]",
      "text/plain": [
       "<Figure size 432x288 with 1 Axes>"
      ]
     },
     "metadata": {
      "needs_background": "light"
     },
     "output_type": "display_data"
    }
   ],
   "source": [
    "plt.figure(figsize=(8,4))\n",
    "top_10_reviews_count_products.plot(kind = 'barh', color = 'gray')\n",
    "plt.xlabel('Number of products sold', fontsize = 12)\n",
    "plt.ylabel('Product name', fontsize = 12)\n",
    "plt.title('Top 10 Products Sold')"
   ]
  },
  {
   "cell_type": "markdown",
   "metadata": {
    "id": "yVUPMwkDGwoR"
   },
   "source": [
    "## Selling Price"
   ]
  },
  {
   "cell_type": "code",
   "execution_count": 32,
   "metadata": {
    "colab": {
     "base_uri": "https://localhost:8080/",
     "height": 386
    },
    "id": "mgRlZ5Q8tgah",
    "outputId": "4ef51560-6e42-444a-c3e7-d16821cd1de6"
   },
   "outputs": [
    {
     "data": {
      "text/plain": [
       "<seaborn.axisgrid.FacetGrid at 0x2141fc20c70>"
      ]
     },
     "execution_count": 32,
     "metadata": {},
     "output_type": "execute_result"
    },
    {
     "data": {
      "image/png": "[encoded data removed]",
      "text/plain": [
       "<Figure size 360x360 with 1 Axes>"
      ]
     },
     "metadata": {
      "needs_background": "light"
     },
     "output_type": "display_data"
    }
   ],
   "source": [
    "# distribution plot of selling price\n",
    "sns.displot(df['selling_price'])"
   ]
  },
  {
   "cell_type": "markdown",
   "metadata": {
    "id": "ZJ2k4dPfu0jt"
   },
   "source": [
    "Majority of Adidas product selling price falls between 20 - 80 USD"
   ]
  },
  {
   "cell_type": "code",
   "execution_count": 33,
   "metadata": {
    "colab": {
     "base_uri": "https://localhost:8080/"
    },
    "id": "hKJu7Isqv37k",
    "outputId": "a03cf9e1-f6c9-44d8-9834-b3930727cc34"
   },
   "outputs": [
    {
     "name": "stdout",
     "output_type": "stream",
     "text": [
      "Adidas average selling price:  52.9 USD\n",
      "Adidas maximum selling price:  240 USD\n",
      "Adidas minimum selling price:  9 USD\n"
     ]
    }
   ],
   "source": [
    "# average selling price of Adidas\n",
    "print('Adidas average selling price: ', round(df['selling_price'].mean(),1), 'USD')\n",
    "\n",
    "# maximum selling price of Adidas\n",
    "print('Adidas maximum selling price: ', df['selling_price'].max(), 'USD')\n",
    "\n",
    "# minimum selling price of Adidas\n",
    "print('Adidas minimum selling price: ', df['selling_price'].min(), 'USD')"
   ]
  },
  {
   "cell_type": "markdown",
   "metadata": {
    "id": "ciVdleU_xNaB"
   },
   "source": [
    "## Original Price"
   ]
  },
  {
   "cell_type": "code",
   "execution_count": 34,
   "metadata": {
    "colab": {
     "base_uri": "https://localhost:8080/",
     "height": 386
    },
    "id": "J3jmqHUZxSgR",
    "outputId": "356006d9-b025-4d21-865a-712686cf7b24"
   },
   "outputs": [
    {
     "data": {
      "text/plain": [
       "<seaborn.axisgrid.FacetGrid at 0x2141fb50850>"
      ]
     },
     "execution_count": 34,
     "metadata": {},
     "output_type": "execute_result"
    },
    {
     "data": {
      "image/png": "[encoded data removed]",
      "text/plain": [
       "<Figure size 360x360 with 1 Axes>"
      ]
     },
     "metadata": {
      "needs_background": "light"
     },
     "output_type": "display_data"
    }
   ],
   "source": [
    "# distribution plot of original price\n",
    "sns.displot(df['original_price'])"
   ]
  },
  {
   "cell_type": "code",
   "execution_count": 35,
   "metadata": {
    "colab": {
     "base_uri": "https://localhost:8080/"
    },
    "id": "GjXEPLe-yZaQ",
    "outputId": "8f3e7391-5079-4e12-f1b3-49e8ccd6514c"
   },
   "outputs": [
    {
     "name": "stdout",
     "output_type": "stream",
     "text": [
      "Adidas average original price:  69.0 USD\n",
      "Adidas maximum original price:  300 USD\n",
      "Adidas minimum original price:  14 USD\n"
     ]
    }
   ],
   "source": [
    "# average original price of Adidas\n",
    "print('Adidas average original price: ', round(df['original_price'].mean(),1), 'USD')\n",
    "\n",
    "# maximum  original price of Adidas\n",
    "print('Adidas maximum original price: ', df['original_price'].max(), 'USD')\n",
    "\n",
    "# minimum original price of Adidas\n",
    "print('Adidas minimum original price: ', df['original_price'].min(), 'USD')"
   ]
  },
  {
   "cell_type": "markdown",
   "metadata": {
    "id": "gVrcVHCYzHaT"
   },
   "source": [
    "It seems that Adidas average original price is higher than its average selling price"
   ]
  },
  {
   "cell_type": "markdown",
   "metadata": {
    "id": "s7f3ygF2xjWf"
   },
   "source": [
    "## Availability"
   ]
  },
  {
   "cell_type": "code",
   "execution_count": 36,
   "metadata": {
    "colab": {
     "base_uri": "https://localhost:8080/",
     "height": 144
    },
    "id": "wwMwn8U7q1D6",
    "outputId": "4ef749ab-5088-4056-ef42-29d05bfdd1bf"
   },
   "outputs": [
    {
     "data": {
      "text/html": [
       "<div>\n",
       "<style scoped>\n",
       "    .dataframe tbody tr th:only-of-type {\n",
       "        vertical-align: middle;\n",
       "    }\n",
       "\n",
       "    .dataframe tbody tr th {\n",
       "        vertical-align: top;\n",
       "    }\n",
       "\n",
       "    .dataframe thead th {\n",
       "        text-align: right;\n",
       "    }\n",
       "</style>\n",
       "<table border=\"1\" class=\"dataframe\">\n",
       "  <thead>\n",
       "    <tr style=\"text-align: right;\">\n",
       "      <th></th>\n",
       "      <th>selling_price</th>\n",
       "      <th>original_price</th>\n",
       "      <th>average_rating</th>\n",
       "      <th>reviews_count</th>\n",
       "    </tr>\n",
       "    <tr>\n",
       "      <th>availability</th>\n",
       "      <th></th>\n",
       "      <th></th>\n",
       "      <th></th>\n",
       "      <th></th>\n",
       "    </tr>\n",
       "  </thead>\n",
       "  <tbody>\n",
       "    <tr>\n",
       "      <th>InStock</th>\n",
       "      <td>52.895884</td>\n",
       "      <td>68.920097</td>\n",
       "      <td>4.608475</td>\n",
       "      <td>359464</td>\n",
       "    </tr>\n",
       "    <tr>\n",
       "      <th>OutOfStock</th>\n",
       "      <td>57.333333</td>\n",
       "      <td>93.333333</td>\n",
       "      <td>4.566667</td>\n",
       "      <td>275</td>\n",
       "    </tr>\n",
       "  </tbody>\n",
       "</table>\n",
       "</div>"
      ],
      "text/plain": [
       "              selling_price  original_price  average_rating  reviews_count\n",
       "availability                                                              \n",
       "InStock           52.895884       68.920097        4.608475         359464\n",
       "OutOfStock        57.333333       93.333333        4.566667            275"
      ]
     },
     "execution_count": 36,
     "metadata": {},
     "output_type": "execute_result"
    }
   ],
   "source": [
    "# availability impacts on other factors\n",
    "df.groupby('availability').agg({'selling_price':'mean', 'original_price': 'mean', 'average_rating': 'mean', 'reviews_count': 'sum'})"
   ]
  },
  {
   "cell_type": "markdown",
   "metadata": {
    "id": "4oIfatDZ9b72"
   },
   "source": [
    "Adidas product availability does have impact on its selling price and original price. Out of stock product availability tends to have higher price than in stock product availability. Meanwhile, Adidas product availability doesn't have much impact on its average rating. On the other hand, review counts drop significantly for out of stock product compared to in stock product."
   ]
  },
  {
   "cell_type": "code",
   "execution_count": 37,
   "metadata": {
    "colab": {
     "base_uri": "https://localhost:8080/"
    },
    "id": "2NPA3-1j7GZq",
    "outputId": "d7fe137b-168a-41ca-874c-810beb311ed2"
   },
   "outputs": [
    {
     "data": {
      "text/plain": [
       "Originals x Kevin Lyons SST Set    1\n",
       "NMD_R1 Spectoo Shoes               1\n",
       "Racer TR21 Shoes                   1\n",
       "Name: name, dtype: int64"
      ]
     },
     "execution_count": 37,
     "metadata": {},
     "output_type": "execute_result"
    }
   ],
   "source": [
    "# list of out of stock product \n",
    "df[df.availability == 'OutOfStock'].name.value_counts()"
   ]
  },
  {
   "cell_type": "markdown",
   "metadata": {
    "id": "kxWth3_Rxlc-"
   },
   "source": [
    "## Color"
   ]
  },
  {
   "cell_type": "code",
   "execution_count": 38,
   "metadata": {
    "colab": {
     "base_uri": "https://localhost:8080/",
     "height": 368
    },
    "id": "olXzkYl6FwjG",
    "outputId": "04d6489e-a704-455f-f333-af9e4bec4707"
   },
   "outputs": [
    {
     "name": "stderr",
     "output_type": "stream",
     "text": [
      "C:\\Users\\ASUS\\anaconda3\\lib\\site-packages\\seaborn\\_decorators.py:36: FutureWarning: Pass the following variable as a keyword arg: x. From version 0.12, the only valid positional argument will be `data`, and passing other arguments without an explicit keyword will result in an error or misinterpretation.\n",
      "  warnings.warn(\n"
     ]
    },
    {
     "data": {
      "text/plain": [
       "Text(0.5, 1.0, 'Overall Favorite Colors')"
      ]
     },
     "execution_count": 38,
     "metadata": {},
     "output_type": "execute_result"
    },
    {
     "data": {
      "image/png": "[encoded data removed]",
      "text/plain": [
       "<Figure size 1152x288 with 1 Axes>"
      ]
     },
     "metadata": {
      "needs_background": "light"
     },
     "output_type": "display_data"
    }
   ],
   "source": [
    "# overall favorite colors\n",
    "plt.figure(figsize=(16,4))\n",
    "sns.countplot(df['color'], order = df['color'].value_counts().index)\n",
    "plt.title('Overall Favorite Colors', fontsize = 14)"
   ]
  },
  {
   "cell_type": "markdown",
   "metadata": {
    "id": "IUN7d5hUJwOe"
   },
   "source": [
    "- The favorite colors for Adidas are white, black, blue, gray, pink, green, etc. \n",
    "- The least favorite colors are brown, silver, turqoise, gold, etc."
   ]
  },
  {
   "cell_type": "code",
   "execution_count": 39,
   "metadata": {
    "colab": {
     "base_uri": "https://localhost:8080/"
    },
    "id": "N8w62vn7K9D2",
    "outputId": "38a27505-8c1b-4e22-da45-2c8f128c1d31"
   },
   "outputs": [
    {
     "data": {
      "text/plain": [
       "Black    72\n",
       "Blue     59\n",
       "White    38\n",
       "Green    36\n",
       "Pink     35\n",
       "Name: color, dtype: int64"
      ]
     },
     "execution_count": 39,
     "metadata": {},
     "output_type": "execute_result"
    }
   ],
   "source": [
    "# favorite color for clothing product type\n",
    "df[df.product_type == 'Clothing'].color.value_counts()[:5]"
   ]
  },
  {
   "cell_type": "code",
   "execution_count": 40,
   "metadata": {
    "colab": {
     "base_uri": "https://localhost:8080/"
    },
    "id": "qyIMqvLTMopZ",
    "outputId": "8a535cb3-e87f-407f-f65f-ef45dcc4e0d9"
   },
   "outputs": [
    {
     "data": {
      "text/plain": [
       "White    165\n",
       "Black     88\n",
       "Grey      44\n",
       "Blue      37\n",
       "Pink      26\n",
       "Name: color, dtype: int64"
      ]
     },
     "execution_count": 40,
     "metadata": {},
     "output_type": "execute_result"
    }
   ],
   "source": [
    "# favorite color for shoes product type\n",
    "df[df.product_type == 'Shoes'].color.value_counts()[:5]"
   ]
  },
  {
   "cell_type": "code",
   "execution_count": 41,
   "metadata": {
    "colab": {
     "base_uri": "https://localhost:8080/"
    },
    "id": "ot0TmiN4MrzV",
    "outputId": "6b576497-43ad-4a3a-dcae-6f35eeb3ad18"
   },
   "outputs": [
    {
     "data": {
      "text/plain": [
       "Black         19\n",
       "White         15\n",
       "Multicolor    15\n",
       "Grey           9\n",
       "Blue           6\n",
       "Name: color, dtype: int64"
      ]
     },
     "execution_count": 41,
     "metadata": {},
     "output_type": "execute_result"
    }
   ],
   "source": [
    "# favorite color for accessories product type\n",
    "df[df.product_type == 'Accessories'].color.value_counts()[:5]"
   ]
  },
  {
   "cell_type": "code",
   "execution_count": 42,
   "metadata": {
    "colab": {
     "base_uri": "https://localhost:8080/",
     "height": 368
    },
    "id": "OaM763TOHqgH",
    "outputId": "b555ae46-53e8-4879-f230-55c0ef2f1b03"
   },
   "outputs": [
    {
     "name": "stderr",
     "output_type": "stream",
     "text": [
      "C:\\Users\\ASUS\\anaconda3\\lib\\site-packages\\seaborn\\_decorators.py:36: FutureWarning: Pass the following variable as a keyword arg: x. From version 0.12, the only valid positional argument will be `data`, and passing other arguments without an explicit keyword will result in an error or misinterpretation.\n",
      "  warnings.warn(\n"
     ]
    },
    {
     "data": {
      "text/plain": [
       "Text(0.5, 1.0, 'Favorite Color for each Product Type')"
      ]
     },
     "execution_count": 42,
     "metadata": {},
     "output_type": "execute_result"
    },
    {
     "data": {
      "image/png": "[encoded data removed]",
      "text/plain": [
       "<Figure size 1152x288 with 1 Axes>"
      ]
     },
     "metadata": {
      "needs_background": "light"
     },
     "output_type": "display_data"
    }
   ],
   "source": [
    "# favorite color for each product type\n",
    "plt.figure(figsize=(16,4))\n",
    "sns.countplot(df['color'], order = df['color'].value_counts().index, hue = df['product_type'])\n",
    "plt.legend(loc = 'upper right')\n",
    "plt.title('Favorite Color for each Product Type', fontsize = 14)"
   ]
  },
  {
   "cell_type": "markdown",
   "metadata": {
    "id": "qrTlS_ujKdOT"
   },
   "source": [
    "- The favorite colors for Adidas clothing are black, blue, white, green, pink, etc\n",
    "- The favorite colors for Adidas shoes are white, black, gray, blue, pink, etc\n",
    "- The favorite colors for Adidas accessories are black, white, multicolor,gray, blue, etc"
   ]
  },
  {
   "cell_type": "markdown",
   "metadata": {
    "id": "uPKhwi1eqEu8"
   },
   "source": [
    "## Product Type"
   ]
  },
  {
   "cell_type": "code",
   "execution_count": 43,
   "metadata": {
    "colab": {
     "base_uri": "https://localhost:8080/",
     "height": 352
    },
    "id": "dzQ7Os44BV0y",
    "outputId": "16d407ac-46ad-4273-cd56-133d99d47953"
   },
   "outputs": [
    {
     "name": "stderr",
     "output_type": "stream",
     "text": [
      "C:\\Users\\ASUS\\anaconda3\\lib\\site-packages\\seaborn\\_decorators.py:36: FutureWarning: Pass the following variable as a keyword arg: x. From version 0.12, the only valid positional argument will be `data`, and passing other arguments without an explicit keyword will result in an error or misinterpretation.\n",
      "  warnings.warn(\n"
     ]
    },
    {
     "data": {
      "text/plain": [
       "<AxesSubplot:xlabel='product_type', ylabel='count'>"
      ]
     },
     "execution_count": 43,
     "metadata": {},
     "output_type": "execute_result"
    },
    {
     "data": {
      "image/png": "[encoded data removed]",
      "text/plain": [
       "<Figure size 432x288 with 1 Axes>"
      ]
     },
     "metadata": {
      "needs_background": "light"
     },
     "output_type": "display_data"
    }
   ],
   "source": [
    "# favorite product type\n",
    "sns.countplot(df['product_type'], order = df['product_type'].value_counts().index)"
   ]
  },
  {
   "cell_type": "code",
   "execution_count": 44,
   "metadata": {
    "colab": {
     "base_uri": "https://localhost:8080/",
     "height": 175
    },
    "id": "tIwQaugQtA8R",
    "outputId": "1afdfe2d-54d5-4d4f-9838-3d7cf5a03d37"
   },
   "outputs": [
    {
     "data": {
      "text/html": [
       "<div>\n",
       "<style scoped>\n",
       "    .dataframe tbody tr th:only-of-type {\n",
       "        vertical-align: middle;\n",
       "    }\n",
       "\n",
       "    .dataframe tbody tr th {\n",
       "        vertical-align: top;\n",
       "    }\n",
       "\n",
       "    .dataframe thead th {\n",
       "        text-align: right;\n",
       "    }\n",
       "</style>\n",
       "<table border=\"1\" class=\"dataframe\">\n",
       "  <thead>\n",
       "    <tr style=\"text-align: right;\">\n",
       "      <th></th>\n",
       "      <th>selling_price</th>\n",
       "      <th>average_rating</th>\n",
       "      <th>reviews_count</th>\n",
       "    </tr>\n",
       "    <tr>\n",
       "      <th>product_type</th>\n",
       "      <th></th>\n",
       "      <th></th>\n",
       "      <th></th>\n",
       "    </tr>\n",
       "  </thead>\n",
       "  <tbody>\n",
       "    <tr>\n",
       "      <th>Accessories</th>\n",
       "      <td>26.379747</td>\n",
       "      <td>4.834177</td>\n",
       "      <td>3997</td>\n",
       "    </tr>\n",
       "    <tr>\n",
       "      <th>Clothing</th>\n",
       "      <td>38.734756</td>\n",
       "      <td>4.635976</td>\n",
       "      <td>22265</td>\n",
       "    </tr>\n",
       "    <tr>\n",
       "      <th>Shoes</th>\n",
       "      <td>68.898104</td>\n",
       "      <td>4.544550</td>\n",
       "      <td>333477</td>\n",
       "    </tr>\n",
       "  </tbody>\n",
       "</table>\n",
       "</div>"
      ],
      "text/plain": [
       "              selling_price  average_rating  reviews_count\n",
       "product_type                                              \n",
       "Accessories       26.379747        4.834177           3997\n",
       "Clothing          38.734756        4.635976          22265\n",
       "Shoes             68.898104        4.544550         333477"
      ]
     },
     "execution_count": 44,
     "metadata": {},
     "output_type": "execute_result"
    }
   ],
   "source": [
    "# product type overview\n",
    "top_product_type_rating = df.groupby('product_type').agg({'selling_price':'mean', 'average_rating': 'mean', 'reviews_count': 'sum'})\n",
    "top_product_type_rating = top_product_type_rating.sort_values('average_rating', ascending = False)\n",
    "top_product_type_rating"
   ]
  },
  {
   "cell_type": "markdown",
   "metadata": {
    "id": "J6HZwAWQPeX4"
   },
   "source": [
    "Shoes are the Adidas's most expensive product type followed by clothing and accesssories. Shoes are the most reviewed product type too. Meanwhile, shoes average rating is much lower than that of accessories and clothing. This has to be reevaluated and reviewed to increase the average rating for shoes because usually average rating has to be proportional to its selling price."
   ]
  },
  {
   "cell_type": "markdown",
   "metadata": {
    "id": "NF0vh9W-xonE"
   },
   "source": [
    "## Category"
   ]
  },
  {
   "cell_type": "code",
   "execution_count": 45,
   "metadata": {
    "colab": {
     "base_uri": "https://localhost:8080/",
     "height": 395
    },
    "id": "p4_eJBWzOSLK",
    "outputId": "c9de42c0-9759-43ac-8210-8af778b7f4ce"
   },
   "outputs": [
    {
     "data": {
      "text/html": [
       "<div>\n",
       "<style scoped>\n",
       "    .dataframe tbody tr th:only-of-type {\n",
       "        vertical-align: middle;\n",
       "    }\n",
       "\n",
       "    .dataframe tbody tr th {\n",
       "        vertical-align: top;\n",
       "    }\n",
       "\n",
       "    .dataframe thead th {\n",
       "        text-align: right;\n",
       "    }\n",
       "</style>\n",
       "<table border=\"1\" class=\"dataframe\">\n",
       "  <thead>\n",
       "    <tr style=\"text-align: right;\">\n",
       "      <th></th>\n",
       "      <th>selling_price</th>\n",
       "      <th>average_rating</th>\n",
       "      <th>reviews_count</th>\n",
       "    </tr>\n",
       "    <tr>\n",
       "      <th>category</th>\n",
       "      <th></th>\n",
       "      <th></th>\n",
       "      <th></th>\n",
       "    </tr>\n",
       "  </thead>\n",
       "  <tbody>\n",
       "    <tr>\n",
       "      <th>Training</th>\n",
       "      <td>21.360000</td>\n",
       "      <td>4.88</td>\n",
       "      <td>1737</td>\n",
       "    </tr>\n",
       "    <tr>\n",
       "      <th>Sportswear</th>\n",
       "      <td>72.000000</td>\n",
       "      <td>4.80</td>\n",
       "      <td>26</td>\n",
       "    </tr>\n",
       "    <tr>\n",
       "      <th>Kids</th>\n",
       "      <td>44.886598</td>\n",
       "      <td>4.70</td>\n",
       "      <td>9627</td>\n",
       "    </tr>\n",
       "    <tr>\n",
       "      <th>Running</th>\n",
       "      <td>102.833333</td>\n",
       "      <td>4.68</td>\n",
       "      <td>2666</td>\n",
       "    </tr>\n",
       "    <tr>\n",
       "      <th>Men</th>\n",
       "      <td>59.053763</td>\n",
       "      <td>4.62</td>\n",
       "      <td>129528</td>\n",
       "    </tr>\n",
       "    <tr>\n",
       "      <th>Originals</th>\n",
       "      <td>71.568966</td>\n",
       "      <td>4.62</td>\n",
       "      <td>69136</td>\n",
       "    </tr>\n",
       "    <tr>\n",
       "      <th>Swim</th>\n",
       "      <td>32.142857</td>\n",
       "      <td>4.60</td>\n",
       "      <td>30821</td>\n",
       "    </tr>\n",
       "    <tr>\n",
       "      <th>Women</th>\n",
       "      <td>48.073099</td>\n",
       "      <td>4.55</td>\n",
       "      <td>114485</td>\n",
       "    </tr>\n",
       "    <tr>\n",
       "      <th>Soccer</th>\n",
       "      <td>74.166667</td>\n",
       "      <td>4.55</td>\n",
       "      <td>1564</td>\n",
       "    </tr>\n",
       "    <tr>\n",
       "      <th>Essentials</th>\n",
       "      <td>52.000000</td>\n",
       "      <td>4.45</td>\n",
       "      <td>149</td>\n",
       "    </tr>\n",
       "  </tbody>\n",
       "</table>\n",
       "</div>"
      ],
      "text/plain": [
       "            selling_price  average_rating  reviews_count\n",
       "category                                                \n",
       "Training        21.360000            4.88           1737\n",
       "Sportswear      72.000000            4.80             26\n",
       "Kids            44.886598            4.70           9627\n",
       "Running        102.833333            4.68           2666\n",
       "Men             59.053763            4.62         129528\n",
       "Originals       71.568966            4.62          69136\n",
       "Swim            32.142857            4.60          30821\n",
       "Women           48.073099            4.55         114485\n",
       "Soccer          74.166667            4.55           1564\n",
       "Essentials      52.000000            4.45            149"
      ]
     },
     "execution_count": 45,
     "metadata": {},
     "output_type": "execute_result"
    }
   ],
   "source": [
    "# product category overview\n",
    "top_product_category_rating = df.groupby('category').agg({'selling_price':'mean', 'average_rating': 'mean', 'reviews_count': 'sum'})\n",
    "top_product_category_rating = top_product_category_rating.sort_values('average_rating', ascending = False)\n",
    "top_product_category_rating['average_rating'] = round(top_product_category_rating['average_rating'],2)\n",
    "top_product_category_rating"
   ]
  },
  {
   "cell_type": "markdown",
   "metadata": {
    "id": "hy0MVqCI07_O"
   },
   "source": [
    "- The overall top product category by average rating is training, sportswear, kids, running, etc\n",
    "- The product category with highest selling price is running, soccer, sportswear, originals, etc\n",
    "- The product category with highest review count is men, women, originals, swim, etc"
   ]
  },
  {
   "cell_type": "code",
   "execution_count": 46,
   "metadata": {
    "colab": {
     "base_uri": "https://localhost:8080/"
    },
    "id": "8LP-4KUdvV1r",
    "outputId": "f9f730b6-1f00-4592-b100-484d7a62fd24"
   },
   "outputs": [
    {
     "data": {
      "text/plain": [
       "product_type  category  \n",
       "Accessories   Kids          4.90\n",
       "              Men           4.87\n",
       "              Originals     4.78\n",
       "              Running       4.70\n",
       "              Soccer        4.80\n",
       "              Training      4.88\n",
       "              Women         4.83\n",
       "Clothing      Essentials    4.70\n",
       "              Kids          4.63\n",
       "              Men           4.69\n",
       "              Originals     5.00\n",
       "              Sportswear    4.80\n",
       "              Women         4.59\n",
       "Shoes         Essentials    4.20\n",
       "              Kids          4.73\n",
       "              Men           4.53\n",
       "              Originals     4.50\n",
       "              Running       4.68\n",
       "              Soccer        4.50\n",
       "              Swim          4.60\n",
       "              Women         4.48\n",
       "Name: average_rating, dtype: float64"
      ]
     },
     "execution_count": 46,
     "metadata": {},
     "output_type": "execute_result"
    }
   ],
   "source": [
    "# product type and product category overview\n",
    "grouping = df.groupby(['product_type','category'])\n",
    "top_product_category_in_each_product_type = round(grouping['average_rating'].mean(),2)\n",
    "top_product_category_in_each_product_type"
   ]
  },
  {
   "cell_type": "markdown",
   "metadata": {
    "id": "HQ69b-NjB8ns"
   },
   "source": [
    "As we can see above:\n",
    "- The top product category for accessories is kids, training, men, women, etc\n",
    "- The top product category for clothing is originals, sportswear, essentials, etc\n",
    "- The top product category for shoes is kids, running, swim, etc"
   ]
  },
  {
   "cell_type": "markdown",
   "metadata": {
    "id": "BX3cU7kGxqTF"
   },
   "source": [
    "## Average Rating"
   ]
  },
  {
   "cell_type": "code",
   "execution_count": 47,
   "metadata": {
    "colab": {
     "base_uri": "https://localhost:8080/",
     "height": 352
    },
    "id": "tbJ8M7Yp7UWi",
    "outputId": "9218a463-0c79-4db1-b608-ad1ee56fc621"
   },
   "outputs": [
    {
     "name": "stderr",
     "output_type": "stream",
     "text": [
      "C:\\Users\\ASUS\\anaconda3\\lib\\site-packages\\seaborn\\_decorators.py:36: FutureWarning: Pass the following variable as a keyword arg: x. From version 0.12, the only valid positional argument will be `data`, and passing other arguments without an explicit keyword will result in an error or misinterpretation.\n",
      "  warnings.warn(\n"
     ]
    },
    {
     "data": {
      "text/plain": [
       "<AxesSubplot:xlabel='average_rating', ylabel='count'>"
      ]
     },
     "execution_count": 47,
     "metadata": {},
     "output_type": "execute_result"
    },
    {
     "data": {
      "image/png": "[encoded data removed]",
      "text/plain": [
       "<Figure size 432x288 with 1 Axes>"
      ]
     },
     "metadata": {
      "needs_background": "light"
     },
     "output_type": "display_data"
    }
   ],
   "source": [
    "# average rating distribution\n",
    "sns.countplot(df['average_rating'])"
   ]
  },
  {
   "cell_type": "code",
   "execution_count": 48,
   "metadata": {
    "colab": {
     "base_uri": "https://localhost:8080/"
    },
    "id": "269uctrGRTFq",
    "outputId": "94721910-7e9f-452a-94ca-d854b146f556"
   },
   "outputs": [
    {
     "name": "stdout",
     "output_type": "stream",
     "text": [
      "Adidas average rating:  4.6\n",
      "Adidas maximum rating:  5.0\n",
      "Adidas minimum rating:  1.0\n"
     ]
    }
   ],
   "source": [
    "# average rating of Adidas\n",
    "print('Adidas average rating: ', round(df['average_rating'].mean(),1))\n",
    "\n",
    "# maximum rating of Adidas\n",
    "print('Adidas maximum rating: ', df['average_rating'].max())\n",
    "\n",
    "# minimum rating of Adidas\n",
    "print('Adidas minimum rating: ', df['average_rating'].min())"
   ]
  },
  {
   "cell_type": "code",
   "execution_count": 49,
   "metadata": {
    "colab": {
     "base_uri": "https://localhost:8080/",
     "height": 175
    },
    "id": "lHOuqCFTt8eY",
    "outputId": "723f35dd-bf2f-4787-c56d-14a597152d97"
   },
   "outputs": [
    {
     "data": {
      "text/html": [
       "<div>\n",
       "<style scoped>\n",
       "    .dataframe tbody tr th:only-of-type {\n",
       "        vertical-align: middle;\n",
       "    }\n",
       "\n",
       "    .dataframe tbody tr th {\n",
       "        vertical-align: top;\n",
       "    }\n",
       "\n",
       "    .dataframe thead th {\n",
       "        text-align: right;\n",
       "    }\n",
       "</style>\n",
       "<table border=\"1\" class=\"dataframe\">\n",
       "  <thead>\n",
       "    <tr style=\"text-align: right;\">\n",
       "      <th>category</th>\n",
       "      <th>Essentials</th>\n",
       "      <th>Kids</th>\n",
       "      <th>Men</th>\n",
       "      <th>Originals</th>\n",
       "      <th>Running</th>\n",
       "      <th>Soccer</th>\n",
       "      <th>Sportswear</th>\n",
       "      <th>Swim</th>\n",
       "      <th>Training</th>\n",
       "      <th>Women</th>\n",
       "    </tr>\n",
       "    <tr>\n",
       "      <th>product_type</th>\n",
       "      <th></th>\n",
       "      <th></th>\n",
       "      <th></th>\n",
       "      <th></th>\n",
       "      <th></th>\n",
       "      <th></th>\n",
       "      <th></th>\n",
       "      <th></th>\n",
       "      <th></th>\n",
       "      <th></th>\n",
       "    </tr>\n",
       "  </thead>\n",
       "  <tbody>\n",
       "    <tr>\n",
       "      <th>Accessories</th>\n",
       "      <td>NaN</td>\n",
       "      <td>4.90</td>\n",
       "      <td>4.87</td>\n",
       "      <td>4.78</td>\n",
       "      <td>4.70</td>\n",
       "      <td>4.8</td>\n",
       "      <td>NaN</td>\n",
       "      <td>NaN</td>\n",
       "      <td>4.88</td>\n",
       "      <td>4.83</td>\n",
       "    </tr>\n",
       "    <tr>\n",
       "      <th>Clothing</th>\n",
       "      <td>4.7</td>\n",
       "      <td>4.63</td>\n",
       "      <td>4.69</td>\n",
       "      <td>5.00</td>\n",
       "      <td>NaN</td>\n",
       "      <td>NaN</td>\n",
       "      <td>4.8</td>\n",
       "      <td>NaN</td>\n",
       "      <td>NaN</td>\n",
       "      <td>4.59</td>\n",
       "    </tr>\n",
       "    <tr>\n",
       "      <th>Shoes</th>\n",
       "      <td>4.2</td>\n",
       "      <td>4.73</td>\n",
       "      <td>4.53</td>\n",
       "      <td>4.50</td>\n",
       "      <td>4.68</td>\n",
       "      <td>4.5</td>\n",
       "      <td>NaN</td>\n",
       "      <td>4.6</td>\n",
       "      <td>NaN</td>\n",
       "      <td>4.48</td>\n",
       "    </tr>\n",
       "  </tbody>\n",
       "</table>\n",
       "</div>"
      ],
      "text/plain": [
       "category      Essentials  Kids   Men  Originals  Running  Soccer  Sportswear  \\\n",
       "product_type                                                                   \n",
       "Accessories          NaN  4.90  4.87       4.78     4.70     4.8         NaN   \n",
       "Clothing             4.7  4.63  4.69       5.00      NaN     NaN         4.8   \n",
       "Shoes                4.2  4.73  4.53       4.50     4.68     4.5         NaN   \n",
       "\n",
       "category      Swim  Training  Women  \n",
       "product_type                         \n",
       "Accessories    NaN      4.88   4.83  \n",
       "Clothing       NaN       NaN   4.59  \n",
       "Shoes          4.6       NaN   4.48  "
      ]
     },
     "execution_count": 49,
     "metadata": {},
     "output_type": "execute_result"
    }
   ],
   "source": [
    "# adidas overall product rating\n",
    "top_product_category_in_each_product_type = top_product_category_in_each_product_type.reset_index()\n",
    "adidas_rating = top_product_category_in_each_product_type.pivot(index='product_type',columns='category',values='average_rating')\n",
    "\n",
    "adidas_rating"
   ]
  },
  {
   "cell_type": "markdown",
   "metadata": {
    "id": "Q-YM1Wm4xuIp"
   },
   "source": [
    "## Review Count"
   ]
  },
  {
   "cell_type": "code",
   "execution_count": 50,
   "metadata": {
    "colab": {
     "base_uri": "https://localhost:8080/",
     "height": 282
    },
    "id": "66opwWb8uVCi",
    "outputId": "a94adf06-de18-4acc-ca08-5598a2ce7b90"
   },
   "outputs": [
    {
     "data": {
      "text/plain": [
       "<AxesSubplot:>"
      ]
     },
     "execution_count": 50,
     "metadata": {},
     "output_type": "execute_result"
    },
    {
     "data": {
      "image/png": "[encoded data removed]",
      "text/plain": [
       "<Figure size 432x288 with 1 Axes>"
      ]
     },
     "metadata": {
      "needs_background": "light"
     },
     "output_type": "display_data"
    }
   ],
   "source": [
    "df['reviews_count'].hist()"
   ]
  }
 ],
 "metadata": {
  "colab": {
   "provenance": [],
   "toc_visible": true
  },
  "kernelspec": {
   "display_name": "Python 3 (ipykernel)",
   "language": "python",
   "name": "python3"
  },
  "language_info": {
   "codemirror_mode": {
    "name": "ipython",
    "version": 3
   },
   "file_extension": ".py",
   "mimetype": "text/x-python",
   "name": "python",
   "nbconvert_exporter": "python",
   "pygments_lexer": "ipython3",
   "version": "3.9.12"
  }
 },
 "nbformat": 4,
 "nbformat_minor": 1
}
